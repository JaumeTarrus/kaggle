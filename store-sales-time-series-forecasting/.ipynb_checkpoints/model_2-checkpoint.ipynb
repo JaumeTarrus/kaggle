{
 "cells": [
  {
   "cell_type": "code",
   "execution_count": 21,
   "id": "a5d3d7d2",
   "metadata": {},
   "outputs": [],
   "source": [
    "import numpy as np\n",
    "import pandas as pd\n",
    "import matplotlib.pyplot as plt\n",
    "from statsmodels.tsa.deterministic import DeterministicProcess, CalendarFourier\n",
    "from sklearn.linear_model import LinearRegression\n",
    "from sklearn.preprocessing import OneHotEncoder"
   ]
  },
  {
   "cell_type": "code",
   "execution_count": 22,
   "id": "3f5b6472",
   "metadata": {},
   "outputs": [],
   "source": [
    "dtype = {\n",
    "    'id': 'uint64',\n",
    "    'store_nbr': 'category',\n",
    "    'family': 'category',\n",
    "    'sales': 'float32',\n",
    "    'onpromotion': 'uint64',\n",
    "}\n",
    "\n",
    "train = pd.read_csv('train.csv', parse_dates = ['date'], dtype=dtype)\n",
    "train['date'] = train.date.dt.to_period('D')\n",
    "train = train.set_index(['store_nbr', 'family']).sort_index()\n",
    "\n",
    "\n",
    "test = pd.read_csv('test.csv', parse_dates = ['date'], dtype=dtype)\n",
    "test['date'] = test.date.dt.to_period('D')\n",
    "test = test.set_index(['store_nbr', 'family']).sort_index()\n",
    "\n",
    "oil = pd.read_csv('oil.csv',parse_dates = True, index_col=['date']).to_period('D')\n",
    "holidays_events = pd.read_csv('holidays_events.csv', parse_dates = True, index_col=['date']).to_period('D')"
   ]
  },
  {
   "cell_type": "code",
   "execution_count": 31,
   "id": "11a14447",
   "metadata": {},
   "outputs": [
    {
     "name": "stdout",
     "output_type": "stream",
     "text": [
      "Store Number: 9 \r"
     ]
    }
   ],
   "source": [
    "start = '2017-04-15'\n",
    "end = '2017-07-15'\n",
    "#index = pd.date_range(start=start, end=end, freq='D')\n",
    "index =train.loc[('1', 'BABY CARE'),['date']].set_index('date')[start:end].index\n",
    "\n",
    "#fourier_1 = CalendarFourier('A', 1)\n",
    "#fourier_2 = CalendarFourier('M', 2)\n",
    "\n",
    "dp = DeterministicProcess(index = index,\n",
    "#                          constant=False,\n",
    "                          order = 1,\n",
    "                          drop= True,\n",
    "                          seasonal = True,\n",
    "                          period = 7,\n",
    "#                          additional_terms=[fourier_1,fourier_2]\n",
    "#                          additional_terms=[fourier_2]\n",
    "                         )\n",
    "X_seasons = dp.in_sample()\n",
    "X_seasons_f = dp.out_of_sample(steps=16)\n",
    "index_f = X_seasons_f.index\n",
    "y_submit = None\n",
    "\n",
    "\n",
    "#sf = ('1', 'BABY CARE')\n",
    "for sf in train.index.unique():\n",
    "    print(f\"Store Number: {sf[0].ljust(2)}\", end='\\r')\n",
    "    train_by_sf = train.loc[sf,['date','id','sales','onpromotion']].set_index(['date']).sort_index()\n",
    "#    train_by_sf = train_by_sf.resample('D').fillna(method = None).fillna(0)\n",
    "      \n",
    "    y = train_by_sf.loc[index,'sales']\n",
    "    X_promo = train_by_sf.loc[index,'onpromotion']\n",
    "    X = X_seasons.join(X_promo)\n",
    "\n",
    "    if end =='2017-08-15':\n",
    "        test_by_sf = test.loc[sf,['date','id','onpromotion']].set_index(['date']).sort_index()\n",
    "        fore_ids = test_by_sf['id'].values\n",
    "        X_promo_f = test_by_sf['onpromotion']\n",
    "    else:\n",
    "        fore_ids = train_by_sf.loc[index_f,'id'].values\n",
    "        X_promo_f = train_by_sf.loc[index_f,'onpromotion']\n",
    "\n",
    "    X_f = X_seasons_f.join(X_promo_f)\n",
    "        \n",
    "    model = LinearRegression(fit_intercept=False)\n",
    "    model.fit(X, y)\n",
    "    y_pred = pd.DataFrame(model.predict(X), index = index, columns=['sales'])\n",
    "\n",
    "    y_forecast = pd.DataFrame({'id': fore_ids , 'sales': model.predict(X_f)})\n",
    "\n",
    "    y_submit = pd.concat([y_submit,y_forecast])\n",
    "                         \n",
    "y_submit.loc[y_submit['sales'] < 0, 'sales'] = 0"
   ]
  },
  {
   "cell_type": "code",
   "execution_count": 33,
   "id": "c5519c86",
   "metadata": {},
   "outputs": [
    {
     "data": {
      "text/plain": [
       "0.5033817743034014"
      ]
     },
     "execution_count": 33,
     "metadata": {},
     "output_type": "execute_result"
    }
   ],
   "source": [
    "y_f_true = train.set_index('date').loc[index_f,'sales'].values\n",
    "y_test   = y_submit.set_index('id').sort_index()['sales'].values\n",
    "np.sqrt((np.sum(np.log((1+y_test)/(1+y_f_true))**2)/len(y_f_true)))"
   ]
  },
  {
   "cell_type": "code",
   "execution_count": 10,
   "id": "151045f0",
   "metadata": {},
   "outputs": [],
   "source": [
    "y_submit.sort_values('id').to_csv('submission.csv', index=False, columns =['id','sales'])"
   ]
  }
 ],
 "metadata": {
  "kernelspec": {
   "display_name": "Python 3 (ipykernel)",
   "language": "python",
   "name": "python3"
  },
  "language_info": {
   "codemirror_mode": {
    "name": "ipython",
    "version": 3
   },
   "file_extension": ".py",
   "mimetype": "text/x-python",
   "name": "python",
   "nbconvert_exporter": "python",
   "pygments_lexer": "ipython3",
   "version": "3.8.8"
  }
 },
 "nbformat": 4,
 "nbformat_minor": 5
}
