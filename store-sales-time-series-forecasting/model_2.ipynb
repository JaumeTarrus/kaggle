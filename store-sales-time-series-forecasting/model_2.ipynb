{
 "cells": [
  {
   "cell_type": "markdown",
   "id": "22dc9e67",
   "metadata": {},
   "source": [
    "## Store-sales time-series forecasting Model 2\n",
    "\n",
    "Building up from model 1 we want now to create a model with unique features for each store and/or product family. This unique feature is going to be the specific holidays in the store, which depend on ins location for the  regional and city specific holidays."
   ]
  },
  {
   "cell_type": "code",
   "execution_count": 1,
   "id": "a5d3d7d2",
   "metadata": {},
   "outputs": [],
   "source": [
    "import numpy as np\n",
    "import pandas as pd\n",
    "import matplotlib.pyplot as plt\n",
    "from statsmodels.tsa.deterministic import DeterministicProcess, CalendarFourier\n",
    "from sklearn.linear_model import LinearRegression\n",
    "from sklearn.preprocessing import OneHotEncoder"
   ]
  },
  {
   "cell_type": "code",
   "execution_count": 2,
   "id": "3f5b6472",
   "metadata": {},
   "outputs": [],
   "source": [
    "dtype = {\n",
    "    'id': 'uint64',\n",
    "    'store_nbr': 'category',\n",
    "    'family': 'category',\n",
    "    'sales': 'float32',\n",
    "    'onpromotion': 'uint64',\n",
    "}\n",
    "\n",
    "train = pd.read_csv('train.csv', parse_dates = ['date'], dtype=dtype)\n",
    "train['date'] = train.date.dt.to_period('D')\n",
    "train = train.set_index(['store_nbr', 'family']).sort_index()\n",
    "\n",
    "\n",
    "test = pd.read_csv('test.csv', parse_dates = ['date'], dtype=dtype)\n",
    "test['date'] = test.date.dt.to_period('D')\n",
    "test = test.set_index(['store_nbr', 'family']).sort_index()\n",
    "\n",
    "oil = pd.read_csv('oil.csv',parse_dates = True, index_col=['date']).to_period('D')\n",
    "holidays_events = pd.read_csv('holidays_events.csv', parse_dates = True, index_col=['date']).to_period('D')\n",
    "stores = pd.read_csv('stores.csv', dtype={'store_nbr': 'category', 'city': 'category', 'state': 'category'}, usecols=['store_nbr','city','state'])\n"
   ]
  },
  {
   "cell_type": "code",
   "execution_count": 6,
   "id": "11a14447",
   "metadata": {},
   "outputs": [
    {
     "name": "stdout",
     "output_type": "stream",
     "text": [
      "   RMSLE = 0.467\r"
     ]
    }
   ],
   "source": [
    "start = '2017-04-15'\n",
    "end = '2017-07-15'\n",
    "#index = pd.date_range(start=start, end=end, freq='D')\n",
    "index =train.loc[('1', 'BABY CARE'),['date']].set_index('date')[start:end].index\n",
    "\n",
    "#fourier_1 = CalendarFourier('A', 4)\n",
    "#fourier_2 = CalendarFourier('M', 2)\n",
    "\n",
    "dp = DeterministicProcess(index = index,\n",
    "#                          constant=False,\n",
    "                          order = 1,\n",
    "                          drop= True,\n",
    "                          seasonal = True,\n",
    "                          period = 7,\n",
    "#                          additional_terms=[fourier_1,fourier_2]\n",
    "#                          additional_terms=[fourier_2]\n",
    "                         )\n",
    "X_seasons = dp.in_sample()\n",
    "X_seasons_f = dp.out_of_sample(steps=16)\n",
    "index_f = X_seasons_f.index\n",
    "y_submit = None\n",
    "\n",
    "\n",
    "#sf = ('1', 'BABY CARE')\n",
    "for sf in train.index.unique():\n",
    "    print(f\"Store Number: {sf[0].ljust(2)}\", end='\\r')\n",
    "    train_by_sf = train.loc[sf,['date','id','sales','onpromotion']].set_index(['date']).sort_index()\n",
    "#    train_by_sf = train_by_sf.resample('D').fillna(method = None).fillna(0)\n",
    "\n",
    "    y = train_by_sf.loc[index,'sales']\n",
    "    X_promo = train_by_sf.loc[index,'onpromotion']\n",
    "    X = X_seasons.join(X_promo)\n",
    "\n",
    "    if end =='2017-08-15':\n",
    "        test_by_sf = test.loc[sf,['date','id','onpromotion']].set_index(['date']).sort_index()\n",
    "        fore_ids = test_by_sf['id'].values\n",
    "        X_promo_f = test_by_sf['onpromotion']\n",
    "    else:\n",
    "        fore_ids = train_by_sf.loc[index_f,'id'].values\n",
    "        X_promo_f = train_by_sf.loc[index_f,'onpromotion']\n",
    "\n",
    "    X_f = X_seasons_f.join(X_promo_f)\n",
    "\n",
    "\n",
    "    city = stores.query('store_nbr  == @sf[0]')['city'].iloc[0]\n",
    "    state = stores.query('store_nbr  == @sf[0]')['state'].iloc[0]\n",
    "    hd_at_store = holidays_events.query('(locale == \"National\") | (locale == \"Regional\" and locale_name == @state) | (locale == \"Local\" and locale_name == @city)')[['description']]\n",
    "    X_holidays = pd.DataFrame(\n",
    "        OneHotEncoder(sparse=False, categories= [hd_at_store.description.unique()]).fit_transform(hd_at_store),\n",
    "        index=hd_at_store.index,\n",
    "        columns=hd_at_store.description.unique(),\n",
    "    ).drop_duplicates()\n",
    "\n",
    "    X = X.join(X_holidays).fillna(0)\n",
    "    X_f = X_f.join(X_holidays).fillna(0)\n",
    "\n",
    "    model = LinearRegression(fit_intercept=False)\n",
    "    model.fit(X, y)\n",
    "    y_pred = pd.DataFrame(model.predict(X), index = index, columns=['sales'])\n",
    "\n",
    "    y_forecast = pd.DataFrame({'id': fore_ids , 'sales': model.predict(X_f)})\n",
    "\n",
    "    y_submit = pd.concat([y_submit,y_forecast])\n",
    "                         \n",
    "y_submit.loc[y_submit['sales'] < 0, 'sales'] = 0\n",
    "\n",
    "if end =='2017-08-15':\n",
    "    y_submit.to_csv('submission.csv', index=False, columns =['id','sales'])\n",
    "else:\n",
    "    y_f_true = train.set_index('date').loc[index_f,'sales'].values\n",
    "    y_test   = y_submit.set_index('id').sort_index()['sales'].values\n",
    "    RMSLE = np.sqrt((np.sum(np.log((1+y_test)/(1+y_f_true))**2)/len(y_f_true)))\n",
    "    print(f'   RMSLE = {RMSLE:.3f}', end='\\r')"
   ]
  },
  {
   "cell_type": "markdown",
   "id": "6345365c",
   "metadata": {},
   "source": [
    "Unfortunately it does not seem to improve the forecast."
   ]
  },
  {
   "cell_type": "code",
   "execution_count": null,
   "id": "42898817",
   "metadata": {},
   "outputs": [],
   "source": []
  }
 ],
 "metadata": {
  "kernelspec": {
   "display_name": "Python 3 (ipykernel)",
   "language": "python",
   "name": "python3"
  },
  "language_info": {
   "codemirror_mode": {
    "name": "ipython",
    "version": 3
   },
   "file_extension": ".py",
   "mimetype": "text/x-python",
   "name": "python",
   "nbconvert_exporter": "python",
   "pygments_lexer": "ipython3",
   "version": "3.8.8"
  }
 },
 "nbformat": 4,
 "nbformat_minor": 5
}
